{
  "nbformat": 4,
  "nbformat_minor": 0,
  "metadata": {
    "colab": {
      "name": "Day7-Perceptron.ipynb",
      "provenance": []
    },
    "kernelspec": {
      "name": "python3",
      "display_name": "Python 3"
    }
  },
  "cells": [
    {
      "cell_type": "code",
      "metadata": {
        "id": "wRwgUwuwemdq",
        "colab_type": "code",
        "colab": {}
      },
      "source": [
        "import numpy as np"
      ],
      "execution_count": 0,
      "outputs": []
    },
    {
      "cell_type": "code",
      "metadata": {
        "id": "QGtsjv25eoRu",
        "colab_type": "code",
        "colab": {}
      },
      "source": [
        "samples = np.array([[0,0],[0,1],[1,0],[1,1]])\n",
        "epochs = 5\n",
        "initial_weights = np.array([0.3,-0.1])\n",
        "threshold = 0.2\n",
        "rate = 0.1"
      ],
      "execution_count": 0,
      "outputs": []
    },
    {
      "cell_type": "code",
      "metadata": {
        "id": "VFny9j2YEUn7",
        "colab_type": "code",
        "colab": {}
      },
      "source": [
        "out = [(var[0] & ~var[1]) | (~var[0] & var[1]) for var in samples] # XOR\n",
        "out = [var[0] & var[1] for var in samples] # AND\n",
        "out = [var[0] | var[1] for var in samples] # OR"
      ],
      "execution_count": 0,
      "outputs": []
    },
    {
      "cell_type": "code",
      "metadata": {
        "id": "EAv3aobwsiCB",
        "colab_type": "code",
        "colab": {
          "base_uri": "https://localhost:8080/",
          "height": 34
        },
        "outputId": "517732c7-fc45-41d1-9bed-965b8f7cf1f4"
      },
      "source": [
        "def Activation_fn(weighted_sum,threshold):\n",
        "  if(weighted_sum < threshold):\n",
        "    return 0\n",
        "  else:\n",
        "    return 1\n",
        "def loss(samples, weights, outputs, threshold):\n",
        "  # error = np.zeros(len(samples))\n",
        "  # for i in range(len(samples)):\n",
        "  #   error[i] = outputs[i] - Activation_fn(round(weights.dot(samples[i]),1), threshold)\n",
        "  error = outputs - np.array([Activation_fn(round(weights.dot(var),1),threshold) for var in samples])\n",
        "  return error\n",
        "loss(samples,initial_weights,out,threshold)"
      ],
      "execution_count": 6,
      "outputs": [
        {
          "output_type": "execute_result",
          "data": {
            "text/plain": [
              "array([0, 1, 0, 0])"
            ]
          },
          "metadata": {
            "tags": []
          },
          "execution_count": 6
        }
      ]
    },
    {
      "cell_type": "code",
      "metadata": {
        "id": "U1lb81muiOL1",
        "colab_type": "code",
        "colab": {
          "base_uri": "https://localhost:8080/",
          "height": 102
        },
        "outputId": "d1073c87-327d-4bb1-c1af-cb149687ef28"
      },
      "source": [
        "print(\"initial_weights : \",initial_weights)\n",
        "weights = initial_weights\n",
        "errorEpoch  = loss(samples, weights, out, threshold)\n",
        "prevErr = np.zeros(len(samples))\n",
        "totalEpochs = 0\n",
        "change = 0\n",
        "while not (errorEpoch == np.zeros(len(samples))).all():\n",
        "  totalEpochs += 1\n",
        "  if (prevErr == errorEpoch).all() :\n",
        "    change+=1\n",
        "  else:\n",
        "    change = 0\n",
        "  if change >= epochs:\n",
        "    break\n",
        "  prevErr = errorEpoch\n",
        "  for i in range(samples.shape[0]):\n",
        "    dot_prod = round(weights.dot(samples[i]),1)\n",
        "    weights = weights + rate * (out[i] - Activation_fn(dot_prod, threshold)) * samples[i]\n",
        "  errorEpoch  = loss(samples, weights, out, threshold)\n",
        "  print(errorEpoch)\n",
        "print(weights, totalEpochs)\n",
        "    # print(weights , samples[i] ,  rate * (out[i] - Activation_fn(dot_prod, threshold)) * samples[i] , dot_prod)\n",
        "# print(weights , error)   "
      ],
      "execution_count": 7,
      "outputs": [
        {
          "output_type": "stream",
          "text": [
            "initial_weights :  [ 0.3 -0.1]\n",
            "[0 1 0 0]\n",
            "[0 1 0 0]\n",
            "[0 0 0 0]\n",
            "[0.3 0.2] 3\n"
          ],
          "name": "stdout"
        }
      ]
    }
  ]
}