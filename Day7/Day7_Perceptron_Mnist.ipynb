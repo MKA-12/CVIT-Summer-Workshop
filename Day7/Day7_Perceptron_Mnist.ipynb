{
  "nbformat": 4,
  "nbformat_minor": 0,
  "metadata": {
    "colab": {
      "name": "Day7-Perceptron-Mnist.ipynb",
      "provenance": []
    },
    "kernelspec": {
      "name": "python3",
      "display_name": "Python 3"
    }
  },
  "cells": [
    {
      "cell_type": "code",
      "metadata": {
        "id": "oOiMc9Jlf1Uu",
        "colab_type": "code",
        "colab": {}
      },
      "source": [
        "from keras.datasets import mnist\n",
        "\n",
        "(x_train, y_train), (x_test, y_test) = mnist.load_data()"
      ],
      "execution_count": 0,
      "outputs": []
    },
    {
      "cell_type": "code",
      "metadata": {
        "id": "0pd1iaB3hbXp",
        "colab_type": "code",
        "colab": {}
      },
      "source": [
        "import numpy as np"
      ],
      "execution_count": 0,
      "outputs": []
    },
    {
      "cell_type": "code",
      "metadata": {
        "id": "gwiP3YLzgmKl",
        "colab_type": "code",
        "outputId": "4bf9f7be-502a-4473-820d-b802f7b9d91f",
        "colab": {
          "base_uri": "https://localhost:8080/",
          "height": 50
        }
      },
      "source": [
        "print(\"Training data shape: \", x_train.shape) # (60000, 28, 28) -- 60000 images, each 28x28 pixels\n",
        "print(\"Test data shape\", x_test.shape) # (10000, 28, 28) -- 10000 images, each 28x28\n",
        "\n",
        "# Flatten the images\n",
        "image_vector_size = 28*28\n",
        "x_train = x_train.reshape(x_train.shape[0], image_vector_size)\n",
        "x_test = x_test.reshape(x_test.shape[0], image_vector_size)"
      ],
      "execution_count": 0,
      "outputs": [
        {
          "output_type": "stream",
          "text": [
            "Training data shape:  (60000, 28, 28)\n",
            "Test data shape (10000, 28, 28)\n"
          ],
          "name": "stdout"
        }
      ]
    },
    {
      "cell_type": "code",
      "metadata": {
        "id": "4ItrFUYEg7SI",
        "colab_type": "code",
        "outputId": "35fb3e82-3d23-42b7-bf3e-c2974251d872",
        "colab": {
          "base_uri": "https://localhost:8080/",
          "height": 50
        }
      },
      "source": [
        "print(\"Training data shape: \", x_train.shape) # (60000, 28, 28) -- 60000 images, each 28x28 pixels\n",
        "print(\"Test data shape\", x_test.shape) # (10000, 28, 28) -- 10000 images, each 28x28"
      ],
      "execution_count": 0,
      "outputs": [
        {
          "output_type": "stream",
          "text": [
            "Training data shape:  (60000, 784)\n",
            "Test data shape (10000, 784)\n"
          ],
          "name": "stdout"
        }
      ]
    },
    {
      "cell_type": "code",
      "metadata": {
        "id": "UJ_MWm4wg7ix",
        "colab_type": "code",
        "colab": {}
      },
      "source": [
        "# Function to extract the classes\n",
        "def extract_2classes(class0, class1, X, Y):\n",
        "    # Select class #0\n",
        "    X_0 = X[Y == class0]\n",
        "    Y_0 = Y[Y == class0]\n",
        "    # Select class #1\n",
        "    X_1 = X[Y == class1]\n",
        "    Y_1 = Y[Y == class1]\n",
        "    # Join the two classes to make the set\n",
        "    X_2classes = np.vstack((X_0, X_1))\n",
        "    Y_2classes = np.append(Y_0, Y_1)\n",
        "    return X_2classes, Y_2classes"
      ],
      "execution_count": 0,
      "outputs": []
    },
    {
      "cell_type": "code",
      "metadata": {
        "id": "fG-YcWSuhKI9",
        "colab_type": "code",
        "colab": {}
      },
      "source": [
        "X_train_2classes, Y_train_2classes = extract_2classes(5, 7, x_train, y_train)\n",
        "X_test_2classes, Y_test_2classes = extract_2classes(5, 7,x_test, y_test)"
      ],
      "execution_count": 0,
      "outputs": []
    },
    {
      "cell_type": "code",
      "metadata": {
        "id": "exespOWBjDx_",
        "colab_type": "code",
        "outputId": "707362f7-1281-4e40-c9ce-21feb279f5d9",
        "colab": {
          "base_uri": "https://localhost:8080/",
          "height": 50
        }
      },
      "source": [
        "print(\"Training data shape: \", X_train_2classes.shape) # (60000, 28, 28) -- 60000 images, each 28x28 pixels\n",
        "print(\"Test data shape\", X_test_2classes.shape) # (10000, 28, 28) -- 10000 images, each 28x28"
      ],
      "execution_count": 0,
      "outputs": [
        {
          "output_type": "stream",
          "text": [
            "Training data shape:  (11686, 784)\n",
            "Test data shape (1920, 784)\n"
          ],
          "name": "stdout"
        }
      ]
    },
    {
      "cell_type": "code",
      "metadata": {
        "id": "_qhlgfoEh3KP",
        "colab_type": "code",
        "colab": {}
      },
      "source": [
        "from sklearn.metrics import accuracy_score\n",
        "from sklearn.linear_model import Perceptron\n",
        "\n",
        "def predict(train_features,test_features,train_labels): \n",
        "    clf = Perceptron(tol=1e-3, random_state=0)\n",
        "    # Fitting the data into the model\n",
        "    clf.fit(train_features, train_labels)\n",
        "    # Predicting the labels for test data\n",
        "    predicted_values = clf.predict(test_features)\n",
        "    return predicted_values\n",
        "    \n",
        "def calc_accuracy(train_features,test_features,train_labels,test_labels):\n",
        "    # Calling predict function to get the predicted labels of test data\n",
        "    pred = predict(train_features,test_features,train_labels)\n",
        "    return accuracy_score(pred, test_labels)"
      ],
      "execution_count": 0,
      "outputs": []
    },
    {
      "cell_type": "code",
      "metadata": {
        "id": "eh2H-ZgFh9JW",
        "colab_type": "code",
        "outputId": "b0c3e2d4-dd4f-4348-a23c-55a8f527c169",
        "colab": {
          "base_uri": "https://localhost:8080/",
          "height": 34
        }
      },
      "source": [
        "calc_accuracy(X_train_2classes,X_test_2classes,Y_train_2classes,Y_test_2classes)"
      ],
      "execution_count": 0,
      "outputs": [
        {
          "output_type": "execute_result",
          "data": {
            "text/plain": [
              "0.9895833333333334"
            ]
          },
          "metadata": {
            "tags": []
          },
          "execution_count": 58
        }
      ]
    },
    {
      "cell_type": "markdown",
      "metadata": {
        "id": "CwJ1CBPS55En",
        "colab_type": "text"
      },
      "source": [
        "## Task\n",
        "Apply cross validation on MNIST dataset and report the graph for K vs training \n",
        "and validation acc (For k=4:10)"
      ]
    },
    {
      "cell_type": "code",
      "metadata": {
        "id": "ThHSbeqt6AU8",
        "colab_type": "code",
        "outputId": "62e65bd2-659d-4e9f-de0f-3df11f8a2aff",
        "colab": {
          "base_uri": "https://localhost:8080/",
          "height": 265
        }
      },
      "source": [
        "from sklearn.model_selection import KFold\n",
        "from matplotlib import pyplot as plt\n",
        "class0 = 5\n",
        "class1 = 7\n",
        "kmin = 2\n",
        "kmax = 10\n",
        "accuracy = np.zeros((kmax - kmin +1,2))\n",
        "X_data = np.vstack([x_train,x_test])\n",
        "Y_data = np.hstack([y_train, y_test])\n",
        "for K in range(kmin,kmax + 1):\n",
        "  kf = KFold(n_splits=K)\n",
        "  accuracy_validation = []\n",
        "  accuracy_train = []\n",
        "  for train_ind , test_ind in kf.split(X_data):\n",
        "    x_train = X_data[train_ind]\n",
        "    y_train = Y_data[train_ind]\n",
        "    x_test = X_data[test_ind]\n",
        "    y_test = Y_data[test_ind]\n",
        "    X_train_2classes, Y_train_2classes = extract_2classes(class0, class1, x_train, y_train)\n",
        "    X_test_2classes, Y_test_2classes = extract_2classes(class0, class1,x_test, y_test)\n",
        "    accuracy_validation.append(calc_accuracy(X_train_2classes,X_test_2classes,Y_train_2classes,Y_test_2classes))\n",
        "    accuracy_train.append(calc_accuracy(X_train_2classes,X_train_2classes,Y_train_2classes,Y_train_2classes))\n",
        "  accuracy[K - kmin,0] = np.mean(accuracy_validation)\n",
        "  accuracy[K - kmin,1] = np.mean(accuracy_train)\n",
        "plt.scatter(np.arange(kmin,kmax+1,1) , accuracy[:,0] , label = \"Validation Error\")\n",
        "plt.scatter(np.arange(kmin,kmax+1,1) , accuracy[:,1] , label = \"Train Error\")\n",
        "plt.legend()\n",
        "plt.show()"
      ],
      "execution_count": 0,
      "outputs": [
        {
          "output_type": "display_data",
          "data": {
            "image/png": "[encoded data removed]",
            "text/plain": [
              "<Figure size 432x288 with 1 Axes>"
            ]
          },
          "metadata": {
            "tags": [],
            "needs_background": "light"
          }
        }
      ]
    }
  ]
}