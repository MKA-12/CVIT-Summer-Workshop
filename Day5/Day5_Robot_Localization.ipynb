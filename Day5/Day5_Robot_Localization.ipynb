{
  "nbformat": 4,
  "nbformat_minor": 0,
  "metadata": {
    "colab": {
      "name": "Day5-Robot_Localization.ipynb",
      "provenance": []
    },
    "kernelspec": {
      "name": "python3",
      "display_name": "Python 3"
    }
  },
  "cells": [
    {
      "cell_type": "markdown",
      "metadata": {
        "id": "VaAXhlYb1PWV",
        "colab_type": "text"
      },
      "source": [
        "# Programming Exercise: Robot Localization"
      ]
    },
    {
      "cell_type": "markdown",
      "metadata": {
        "id": "-o7tHiTc6hGm",
        "colab_type": "text"
      },
      "source": [
        "#### Cancer Test Example\n",
        "Let us apply Bayes' Rule to a Cancer Test Example which is a very common example in Statistic classes.\n",
        "Suppose, there is a certain type of cancer which is extremely rare.\n",
        "\n",
        "Let,\n",
        "\\begin{equation}\n",
        "P(C) = 0.001\n",
        "\\end{equation}\n",
        "In other words, $1$ in every $1000$ people has this cancer. Can you compute the probability of not having cancer?\n",
        "\\begin{equation}\n",
        "P(\\neg C) = ?\n",
        "\\end{equation}\n",
        "\n",
        "The test for cancer is not $100\\%$ accurate. Let us say, probability of the test being positive given someone has cancer is,\n",
        "\\begin{equation}\n",
        "P(pos | C) = 0.8\n",
        "\\end{equation}\n",
        "Can you compute the probability that the test is negative given someone has cancer?\n",
        "\\begin{equation}\n",
        "P(neg | C) = ?\n",
        "\\end{equation}\n",
        "\n",
        "Similarly, the probability of a test being positive given that someone has no cancer is $P(pos | \\neg C) = 0.1$. Can you compute the probability that the test is negative given someone has no cancer?\n",
        "\\begin{equation}\n",
        "P(neg | \\neg C) = ?\n",
        "\\end{equation}\n",
        "\n",
        "Can you compute the following?\n",
        "\\begin{equation}\n",
        "P(C | pos) = ?\n",
        "\\end{equation}\n",
        "Interpret the quantity you computed in words!\n",
        "\n",
        "What we computed is very interesting. We computed probability of having cancer given the test results and how likely the disease is."
      ]
    },
    {
      "cell_type": "markdown",
      "metadata": {
        "id": "I0iPdR-y-aGV",
        "colab_type": "text"
      },
      "source": [
        "# Robot Localization\n",
        "In this exercise we will apply basic concepts of probability and statistics to help a robot localise itself. Robot localization is an important task for any mobile robot as it needs to know where in the world it is currently situated in.\n",
        "\n",
        "You may think robot localization is a very easy problem as you can use GPS. But no! GPS has errors in localization upto a few metres which is very inaccurate for self driving cars.\n",
        "\n",
        "Hence, the robot needs to use sensors to locate itself. And sensors are noisy! Even the motion of a robot is uncertain.\n",
        "\n",
        "For the purposes of this exercise, let us assume that the world is a one dimensional world with $N$ grid cells. Each grid cell is colored either red or green which can be measured using a sensor located in the robot. However, the sensor measurements are noisy and hence we need to take a probabilitic approach to determine in which of these grid cells the robot is situated in at a given instant of time.\n",
        "\n",
        "![image](images/1.png)\n",
        "\n",
        "The robot can move either left or right in this **cyclic** world. This motion is uncertain as well prompting us again to take a probabilistic approach. For example you may instruct the robot to move $5$ cells. But it may move $4/6$ cells due to a wheel slip.\n",
        "\n",
        "When the robot is switched on, it is in a state of maximum confusion. It doesn't know where it is situated. We will model this state of maximum confusion as uniform distribution. \n",
        "In other words, the robot has equal belief of being present in any of the cells.\n",
        "\n",
        "Complete the below function to return an array where the $i^{th}$ array element is the probability that the robot is in the $i^{th}$ grid cell at time instant $0$ when the robot is switched on."
      ]
    },
    {
      "cell_type": "code",
      "metadata": {
        "id": "OmeHKNXwtzLs",
        "colab_type": "code",
        "colab": {}
      },
      "source": [
        "import numpy as np"
      ],
      "execution_count": 0,
      "outputs": []
    },
    {
      "cell_type": "code",
      "metadata": {
        "id": "WKaYvKXt6iHG",
        "colab_type": "code",
        "colab": {}
      },
      "source": [
        "# Modify the empty list, p, so that it becomes a UNIFORM probability\n",
        "# distribution over n grid cells, as expressed in a list of \n",
        "# n probabilities.\n",
        "def init_distribution(n):\n",
        "    p = []\n",
        "    # Add your code here\n",
        "    p = np.full((n),1/n)\n",
        "    # End your code here\n",
        "    return p"
      ],
      "execution_count": 0,
      "outputs": []
    },
    {
      "cell_type": "code",
      "metadata": {
        "id": "X_TWpo2V96Q8",
        "colab_type": "code",
        "outputId": "b07edc7b-e0fd-4999-8438-6e2abc02cbaa",
        "colab": {
          "base_uri": "https://localhost:8080/",
          "height": 35
        }
      },
      "source": [
        "init_distribution(5)"
      ],
      "execution_count": 5,
      "outputs": [
        {
          "output_type": "execute_result",
          "data": {
            "text/plain": [
              "array([0.2, 0.2, 0.2, 0.2, 0.2])"
            ]
          },
          "metadata": {
            "tags": []
          },
          "execution_count": 5
        }
      ]
    },
    {
      "cell_type": "code",
      "metadata": {
        "id": "Se_FN-CC-Hx9",
        "colab_type": "code",
        "outputId": "12fa0282-8e95-4a4b-c150-0160967769a9",
        "colab": {
          "base_uri": "https://localhost:8080/",
          "height": 35
        }
      },
      "source": [
        "#Modify the code below so that the function sense, which \n",
        "#takes p and Z as inputs, will output the normalized \n",
        "#probability distribution, q, after multiplying the entries \n",
        "# in p according to the color in the corresponding cell in world,\n",
        "# followed by normalization of the probability values\n",
        "world=['green', 'red', 'red', 'green', 'green']\n",
        "p = [0.2, 0.2, 0.2, 0.2, 0.2]\n",
        "prob = 0.75\n",
        "def sense(p, Z):\n",
        "    q = []\n",
        "    # Add your code here\n",
        "    q= [prob * p[i] if (world[i] == Z)  else (1 - prob) * p[i] for i in range(len(world))]\n",
        "    q = q/np.sum(q)\n",
        "    # End your code here\n",
        "    return q\n",
        "            \n",
        "sense(p, 'red')"
      ],
      "execution_count": 13,
      "outputs": [
        {
          "output_type": "execute_result",
          "data": {
            "text/plain": [
              "array([0.11111111, 0.33333333, 0.33333333, 0.11111111, 0.11111111])"
            ]
          },
          "metadata": {
            "tags": []
          },
          "execution_count": 13
        }
      ]
    },
    {
      "cell_type": "code",
      "metadata": {
        "id": "F74w2z8o20LX",
        "colab_type": "code",
        "colab": {
          "base_uri": "https://localhost:8080/",
          "height": 35
        },
        "outputId": "1b66092f-e065-46dd-e114-47cc4ed75535"
      },
      "source": [
        "sense(p,'green')"
      ],
      "execution_count": 14,
      "outputs": [
        {
          "output_type": "execute_result",
          "data": {
            "text/plain": [
              "array([0.27272727, 0.09090909, 0.09090909, 0.27272727, 0.27272727])"
            ]
          },
          "metadata": {
            "tags": []
          },
          "execution_count": 14
        }
      ]
    },
    {
      "cell_type": "code",
      "metadata": {
        "id": "6R0eAljYAMb6",
        "colab_type": "code",
        "outputId": "84c3c7dc-9d41-49a9-df00-986073b31d83",
        "colab": {
          "base_uri": "https://localhost:8080/",
          "height": 35
        }
      },
      "source": [
        "#Modify the code so that it updates the probability twice\n",
        "#and gives the posterior distribution after both \n",
        "#measurements are incorporated. Make sure that your code \n",
        "#allows for any sequence of measurement of any length.\n",
        "\n",
        "# DO NOT MODIFY THE SENSE FUNCTION. JUST CALL THE SENSE FUNCTION APPROPRIATELY\n",
        "\n",
        "p=[0.2, 0.2, 0.2, 0.2, 0.2]\n",
        "world=['green', 'red', 'red', 'green', 'green']\n",
        "measurements = ['red', 'green']\n",
        "\n",
        "# Add your code here\n",
        "for measurement in measurements:\n",
        "   p = sense(p , measurement)\n",
        "# End your code here\n",
        "print(p)"
      ],
      "execution_count": 17,
      "outputs": [
        {
          "output_type": "stream",
          "text": [
            "[0.2 0.2 0.2 0.2 0.2]\n"
          ],
          "name": "stdout"
        }
      ]
    },
    {
      "cell_type": "code",
      "metadata": {
        "id": "09T5xJwcDUmT",
        "colab_type": "code",
        "outputId": "d26210f1-1ed0-4483-ca53-01c89fe5cffc",
        "colab": {
          "base_uri": "https://localhost:8080/",
          "height": 35
        }
      },
      "source": [
        "#Program a function that returns a new distribution \n",
        "#q, shifted to the right by U units. If U=0, q should \n",
        "#be the same as p.\n",
        "\n",
        "def move(p, U):\n",
        "    q = []\n",
        "    # ADD CODE HERE\n",
        "    n = len(p)\n",
        "    shift = U%n\n",
        "    q = [*p,*p]\n",
        "    q = np.array(q[n-shift:2*n-shift])\n",
        "    # END CODE HERE\n",
        "    return q\n",
        "\n",
        "move([0.11, 0.33, 0.33, 0.11, 0.11], 1)"
      ],
      "execution_count": 35,
      "outputs": [
        {
          "output_type": "execute_result",
          "data": {
            "text/plain": [
              "array([0.11, 0.11, 0.33, 0.33, 0.11])"
            ]
          },
          "metadata": {
            "tags": []
          },
          "execution_count": 35
        }
      ]
    },
    {
      "cell_type": "markdown",
      "metadata": {
        "id": "HdlpeqKxPHno",
        "colab_type": "text"
      },
      "source": [
        "**Solution:**\n",
        "\n",
        "We can apply the Theorem of total probability at each grid cell given the robot instruction. For example, we are interested in computing the probability that the robot is at grid cell $2$. Now the robot can come here from the following gird cells:\n",
        "- Grid cell $1$: The instruction is to move right by $2$, and hence a robot at cell $1$ can reach this grid cell with a probability of $0.1$(this is by undershooting)\n",
        "- Grid cell $0$ : The instruction is to move right by $2$, and hence a robot at cell $0$ can reach this grid cell with a probability of $0.8$(this is case when robot motion is exact)\n",
        "- Grid cell $4$ : The instruction is to move right by $2$, and hence a robot at cell $4$ can reach this grid cell with a probability of $0.1$(this is by overshooting). Remember that the world is cyclic.\n",
        "\n",
        "Required Probability($P$) is given as follows:\n",
        "\\begin{equation}\n",
        "P = 1.0 * 0.1 + 0.0 * 0.8 + 0.0 * 0.1 = 0.1\n",
        "\\end{equation}"
      ]
    },
    {
      "cell_type": "code",
      "metadata": {
        "id": "Fhz6XkGKPJKh",
        "colab_type": "code",
        "outputId": "e1122df4-caf6-4002-af76-f63752a46ec2",
        "colab": {
          "base_uri": "https://localhost:8080/",
          "height": 35
        }
      },
      "source": [
        "#Modify the move function to accommodate the added \n",
        "#probabilities of overshooting or undershooting \n",
        "#the intended destination.\n",
        "\n",
        "def move_prob(p, U):\n",
        "    q = []\n",
        "    # ADD CODE HERE\n",
        "    if U == 0:\n",
        "      return p\n",
        "    under = 0.1\n",
        "    over = 0.1\n",
        "    precise = 0.8\n",
        "    p = np.array(p)\n",
        "    q=move(under*p,U-1)+move(precise*p,U)+move(over*p,U+1)\n",
        "    # END CODE HERE\n",
        "    return q\n",
        "\n",
        "move_prob([0, 1.0, 0, 0, 0], 1)"
      ],
      "execution_count": 36,
      "outputs": [
        {
          "output_type": "execute_result",
          "data": {
            "text/plain": [
              "array([0. , 0.1, 0.8, 0.1, 0. ])"
            ]
          },
          "metadata": {
            "tags": []
          },
          "execution_count": 36
        }
      ]
    },
    {
      "cell_type": "code",
      "metadata": {
        "id": "o1SEBFRyPQJR",
        "colab_type": "code",
        "outputId": "548a699a-783e-47c4-838c-16f02bbb1af1",
        "colab": {
          "base_uri": "https://localhost:8080/",
          "height": 35
        }
      },
      "source": [
        "# Write code that makes the robot move twice and then prints \n",
        "# out the resulting distribution, starting with the initial \n",
        "# distribution p = [0, 1, 0, 0, 0]\n",
        "p = np.array([0, 1, 0, 0, 0])\n",
        "# Call the function appropriately from here\n",
        "\n",
        "# ADD CODE HERE\n",
        "p=move_prob(p,1)\n",
        "p=move_prob(p,1)\n",
        "# END CODE HERE\n",
        "p"
      ],
      "execution_count": 37,
      "outputs": [
        {
          "output_type": "execute_result",
          "data": {
            "text/plain": [
              "array([0.01, 0.01, 0.16, 0.66, 0.16])"
            ]
          },
          "metadata": {
            "tags": []
          },
          "execution_count": 37
        }
      ]
    },
    {
      "cell_type": "code",
      "metadata": {
        "id": "w9r5hSUXRCz-",
        "colab_type": "code",
        "outputId": "6f16d30f-52e2-4ef1-eea5-326fda147a26",
        "colab": {
          "base_uri": "https://localhost:8080/",
          "height": 35
        }
      },
      "source": [
        "#write code that moves 1000 times and then prints the \n",
        "#resulting probability distribution.\n",
        "\n",
        "p = [0, 1, 0, 0, 0]\n",
        "# ADD CODE HERE\n",
        "for i in range(1000):\n",
        "  p = move_prob(p,1)\n",
        "# END CODE HERE\n",
        "p"
      ],
      "execution_count": 39,
      "outputs": [
        {
          "output_type": "execute_result",
          "data": {
            "text/plain": [
              "array([0.2, 0.2, 0.2, 0.2, 0.2])"
            ]
          },
          "metadata": {
            "tags": []
          },
          "execution_count": 39
        }
      ]
    },
    {
      "cell_type": "code",
      "metadata": {
        "id": "8LQsvpbdRPzS",
        "colab_type": "code",
        "colab": {
          "base_uri": "https://localhost:8080/",
          "height": 35
        },
        "outputId": "7aff9de3-da05-415e-a27b-46ead3929b4a"
      },
      "source": [
        "#Given the list motions=[1,1] which means the robot \n",
        "#moves right and then right again, compute the posterior \n",
        "#distribution if the robot first senses red, then moves \n",
        "#right one, then senses green, then moves right again, \n",
        "#starting with a uniform prior distribution.\n",
        "\n",
        "world=['green', 'red', 'red', 'green', 'green']\n",
        "measurements = ['red', 'green']\n",
        "motions = [1,1]\n",
        "\n",
        "p = init_distribution(len(world))\n",
        "# ADD CODE HERE\n",
        "n = len(p)\n",
        "for measurement , motion in zip(measurements,motions):\n",
        "  p = sense(p,measurement)\n",
        "  p = move_prob(p,1 if motion == 1 else n -1)\n",
        "p"
      ],
      "execution_count": 41,
      "outputs": [
        {
          "output_type": "execute_result",
          "data": {
            "text/plain": [
              "array([0.21157895, 0.15157895, 0.08105263, 0.16842105, 0.38736842])"
            ]
          },
          "metadata": {
            "tags": []
          },
          "execution_count": 41
        }
      ]
    },
    {
      "cell_type": "markdown",
      "metadata": {
        "id": "5jJckQtNVDRV",
        "colab_type": "text"
      },
      "source": [
        "[0.21157894736842106, 0.15157894736842106, 0.08105263157894738, 0.16842105263157894, 0.38736842105263164]"
      ]
    }
  ]
}